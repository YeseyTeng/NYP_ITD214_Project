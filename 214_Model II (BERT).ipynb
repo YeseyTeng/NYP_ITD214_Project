{
 "cells": [
  {
   "cell_type": "code",
   "execution_count": 1,
   "id": "c88270d9-2c23-4835-9cd8-3ada412e8c2d",
   "metadata": {},
   "outputs": [
    {
     "name": "stderr",
     "output_type": "stream",
     "text": [
      "[nltk_data] Downloading package punkt to\n",
      "[nltk_data]     C:\\Users\\DuSzeTeng\\AppData\\Roaming\\nltk_data...\n",
      "[nltk_data]   Package punkt is already up-to-date!\n",
      "[nltk_data] Downloading package stopwords to\n",
      "[nltk_data]     C:\\Users\\DuSzeTeng\\AppData\\Roaming\\nltk_data...\n",
      "[nltk_data]   Package stopwords is already up-to-date!\n"
     ]
    },
    {
     "data": {
      "text/plain": [
       "True"
      ]
     },
     "execution_count": 1,
     "metadata": {},
     "output_type": "execute_result"
    }
   ],
   "source": [
    "import numpy as np\n",
    "import pandas as pd\n",
    "import seaborn as sns\n",
    "import matplotlib.pyplot as plt\n",
    "\n",
    "from sklearn.model_selection import train_test_split\n",
    "from sklearn.linear_model import LogisticRegression\n",
    "from sklearn.model_selection import GridSearchCV\n",
    "from sklearn.model_selection import cross_val_score\n",
    "from sklearn.metrics import confusion_matrix, classification_report\n",
    "from sklearn.decomposition import LatentDirichletAllocation\n",
    "from sklearn.feature_extraction.text import CountVectorizer\n",
    "\n",
    "import torch\n",
    "import transformers as ppb\n",
    "import warnings\n",
    "warnings.filterwarnings('ignore')\n",
    "\n",
    "import nltk\n",
    "from nltk.corpus import stopwords\n",
    "from nltk.tokenize import word_tokenize\n",
    "from collections import Counter\n",
    "\n",
    "nltk.download('punkt')\n",
    "nltk.download('stopwords')"
   ]
  },
  {
   "cell_type": "code",
   "execution_count": 2,
   "id": "4e2cc7af-3f6f-4462-8e8a-6a2af2d71afa",
   "metadata": {},
   "outputs": [
    {
     "name": "stdout",
     "output_type": "stream",
     "text": [
      "Requirement already satisfied: transformers in c:\\users\\duszeteng\\anaconda3\\lib\\site-packages (4.41.2)\n",
      "Requirement already satisfied: filelock in c:\\users\\duszeteng\\anaconda3\\lib\\site-packages (from transformers) (3.13.1)\n",
      "Requirement already satisfied: huggingface-hub<1.0,>=0.23.0 in c:\\users\\duszeteng\\anaconda3\\lib\\site-packages (from transformers) (0.23.1)\n",
      "Requirement already satisfied: numpy>=1.17 in c:\\users\\duszeteng\\anaconda3\\lib\\site-packages (from transformers) (1.26.4)\n",
      "Requirement already satisfied: packaging>=20.0 in c:\\users\\duszeteng\\anaconda3\\lib\\site-packages (from transformers) (24.1)\n",
      "Requirement already satisfied: pyyaml>=5.1 in c:\\users\\duszeteng\\anaconda3\\lib\\site-packages (from transformers) (6.0.1)\n",
      "Requirement already satisfied: regex!=2019.12.17 in c:\\users\\duszeteng\\anaconda3\\lib\\site-packages (from transformers) (2023.10.3)\n",
      "Requirement already satisfied: requests in c:\\users\\duszeteng\\anaconda3\\lib\\site-packages (from transformers) (2.31.0)\n",
      "Requirement already satisfied: tokenizers<0.20,>=0.19 in c:\\users\\duszeteng\\anaconda3\\lib\\site-packages (from transformers) (0.19.1)\n",
      "Requirement already satisfied: safetensors>=0.4.1 in c:\\users\\duszeteng\\anaconda3\\lib\\site-packages (from transformers) (0.4.2)\n",
      "Requirement already satisfied: tqdm>=4.27 in c:\\users\\duszeteng\\anaconda3\\lib\\site-packages (from transformers) (4.65.0)\n",
      "Requirement already satisfied: fsspec>=2023.5.0 in c:\\users\\duszeteng\\anaconda3\\lib\\site-packages (from huggingface-hub<1.0,>=0.23.0->transformers) (2023.10.0)\n",
      "Requirement already satisfied: typing-extensions>=3.7.4.3 in c:\\users\\duszeteng\\anaconda3\\lib\\site-packages (from huggingface-hub<1.0,>=0.23.0->transformers) (4.9.0)\n",
      "Requirement already satisfied: colorama in c:\\users\\duszeteng\\anaconda3\\lib\\site-packages (from tqdm>=4.27->transformers) (0.4.6)\n",
      "Requirement already satisfied: charset-normalizer<4,>=2 in c:\\users\\duszeteng\\anaconda3\\lib\\site-packages (from requests->transformers) (2.0.4)\n",
      "Requirement already satisfied: idna<4,>=2.5 in c:\\users\\duszeteng\\anaconda3\\lib\\site-packages (from requests->transformers) (3.4)\n",
      "Requirement already satisfied: urllib3<3,>=1.21.1 in c:\\users\\duszeteng\\anaconda3\\lib\\site-packages (from requests->transformers) (2.0.7)\n",
      "Requirement already satisfied: certifi>=2017.4.17 in c:\\users\\duszeteng\\anaconda3\\lib\\site-packages (from requests->transformers) (2024.7.4)\n"
     ]
    }
   ],
   "source": [
    "!pip install transformers"
   ]
  },
  {
   "cell_type": "code",
   "execution_count": 3,
   "id": "1648cc17-20a9-4e11-89b7-2c7982287add",
   "metadata": {},
   "outputs": [],
   "source": [
    "# upload the dataset\n",
    "\n",
    "dataset = pd.read_csv('Review.csv', header=None)"
   ]
  },
  {
   "cell_type": "code",
   "execution_count": 4,
   "id": "a7fe0de4-5b01-46c8-9a02-e8ba940d1dc9",
   "metadata": {},
   "outputs": [],
   "source": [
    "# load the pre-trained model (BERT)\n",
    "\n",
    "# For DistilBERT:\n",
    "model_class, tokenizer_class, pretrained_weights = (ppb.DistilBertModel, ppb.DistilBertTokenizer, 'distilbert-base-uncased')\n",
    "\n",
    "## Want BERT instead of distilBERT? Uncomment the following line:\n",
    "# model_class, tokenizer_class, pretrained_weights = (ppb.BertModel, ppb.BertTokenizer, 'bert-base-uncased')\n",
    "\n",
    "# Load pretrained model/tokenizer\n",
    "tokenizer = tokenizer_class.from_pretrained(pretrained_weights)\n",
    "model = model_class.from_pretrained(pretrained_weights)\n"
   ]
  },
  {
   "cell_type": "code",
   "execution_count": 5,
   "id": "d1aed22b-fabf-42c9-adc5-b615a5311925",
   "metadata": {},
   "outputs": [
    {
     "data": {
      "text/plain": [
       "[101,\n",
       " 1037,\n",
       " 2843,\n",
       " 1997,\n",
       " 4408,\n",
       " 1998,\n",
       " 6288,\n",
       " 2493,\n",
       " 2031,\n",
       " 3273,\n",
       " 2182,\n",
       " 1012,\n",
       " 8670,\n",
       " 2007,\n",
       " 2877,\n",
       " 2470,\n",
       " 2136,\n",
       " 2007,\n",
       " 1037,\n",
       " 2715,\n",
       " 6845,\n",
       " 4128,\n",
       " 1012,\n",
       " 2493,\n",
       " 2013,\n",
       " 2105,\n",
       " 1996,\n",
       " 7595,\n",
       " 2817,\n",
       " 2182,\n",
       " 1012,\n",
       " 102]"
      ]
     },
     "execution_count": 5,
     "metadata": {},
     "output_type": "execute_result"
    }
   ],
   "source": [
    "# use the trained distilBERT to generate sentence embeddings\n",
    "\n",
    "tokenizer.encode('A lot of bright and scholar students have studied here. BA with leading research team with a modern lab facilities. Students from around the globe study here.', add_special_tokens=True)"
   ]
  },
  {
   "cell_type": "code",
   "execution_count": 6,
   "id": "daf2bd73-bbca-4d0d-9147-14a25cec1801",
   "metadata": {},
   "outputs": [
    {
     "name": "stdout",
     "output_type": "stream",
     "text": [
      "0      [101, 1037, 2843, 1997, 4408, 1998, 6288, 2493...\n",
      "1      [101, 1045, 2572, 16054, 2075, 15038, 2085, 19...\n",
      "2      [101, 1045, 2031, 2908, 2013, 2383, 5717, 7023...\n",
      "3      [101, 2009, 2038, 2042, 2107, 1037, 6919, 1998...\n",
      "4      [101, 1996, 7224, 1999, 2267, 2003, 2307, 1025...\n",
      "                             ...                        \n",
      "507                  [101, 5409, 8902, 20679, 1012, 102]\n",
      "508                         [101, 5409, 3325, 2412, 102]\n",
      "509    [101, 5409, 2082, 1045, 2031, 2412, 2464, 1996...\n",
      "510    [101, 2017, 2191, 2204, 2814, 4089, 2182, 1998...\n",
      "511    [101, 1060, 2495, 1010, 2026, 5440, 2082, 999,...\n",
      "Name: 0, Length: 512, dtype: object\n"
     ]
    }
   ],
   "source": [
    "# Build the dataset\n",
    "\n",
    "#  tokenize the sentences -- break them up into word and subwords in the format BERT prefers. This turns every sentence into the list of ids.\n",
    "\n",
    "tokenized = dataset[0].apply((lambda x: tokenizer.encode(x, add_special_tokens=True)))\n",
    "print(tokenized)"
   ]
  },
  {
   "cell_type": "code",
   "execution_count": 7,
   "id": "dc0ea7d7-fbea-4482-9e16-38a762fc7a0f",
   "metadata": {},
   "outputs": [
    {
     "data": {
      "text/plain": [
       "(512, 140)"
      ]
     },
     "execution_count": 7,
     "metadata": {},
     "output_type": "execute_result"
    }
   ],
   "source": [
    "# Padding - make all the vectors the same size\n",
    "\n",
    "max_len = 0\n",
    "for i in tokenized:\n",
    "    if len(i) > max_len:\n",
    "        max_len = len(i)\n",
    "\n",
    "padded = np.array([i + [0]*(max_len-len(i)) for i in tokenized])\n",
    "\n",
    "np.array(padded).shape"
   ]
  },
  {
   "cell_type": "code",
   "execution_count": 8,
   "id": "8da869d8-d98f-4cb2-96c9-d9f6a5e86173",
   "metadata": {},
   "outputs": [
    {
     "data": {
      "text/plain": [
       "(512, 140)"
      ]
     },
     "execution_count": 8,
     "metadata": {},
     "output_type": "execute_result"
    }
   ],
   "source": [
    "# Masking - create another variable to tell it to ignore (mask) the padding we've added when it's processing its input.\n",
    "\n",
    "attention_mask = np.where(padded != 0, 1, 0)\n",
    "attention_mask.shape"
   ]
  },
  {
   "cell_type": "code",
   "execution_count": 9,
   "id": "c8b5275b-d35d-4926-945c-3411de9f24ab",
   "metadata": {},
   "outputs": [
    {
     "name": "stdout",
     "output_type": "stream",
     "text": [
      "BaseModelOutput(last_hidden_state=tensor([[[ 2.9023e-02, -2.0292e-01, -3.2254e-01,  ..., -2.9170e-01,\n",
      "           6.0461e-01, -5.9440e-02],\n",
      "         [ 6.3830e-04, -8.2153e-02, -4.3273e-01,  ..., -4.2001e-01,\n",
      "           7.6665e-01, -4.3452e-02],\n",
      "         [ 4.2992e-01, -1.9376e-01,  1.8070e-01,  ..., -4.1114e-01,\n",
      "           4.9630e-01, -3.9836e-01],\n",
      "         ...,\n",
      "         [ 5.7604e-01,  2.4728e-01,  2.9399e-01,  ..., -1.5780e-01,\n",
      "           2.3892e-01, -4.2280e-01],\n",
      "         [ 4.5114e-01,  1.7504e-01,  3.5096e-01,  ..., -2.0002e-01,\n",
      "           3.7291e-01, -5.0394e-01],\n",
      "         [ 1.2527e-02, -4.4351e-02,  2.5624e-01,  ..., -1.6991e-01,\n",
      "           4.1464e-01, -5.1884e-01]],\n",
      "\n",
      "        [[ 1.4917e-01,  1.0024e-01,  1.4665e-01,  ..., -1.0511e-01,\n",
      "           4.0846e-01,  1.2842e-01],\n",
      "         [ 4.4537e-01,  5.1938e-02,  9.8941e-02,  ..., -2.4625e-01,\n",
      "           6.7515e-01, -1.9671e-02],\n",
      "         [ 1.6391e-01,  4.9534e-01,  4.5502e-01,  ..., -2.3075e-01,\n",
      "           3.7305e-01,  2.0456e-01],\n",
      "         ...,\n",
      "         [ 6.9950e-02,  2.1837e-01,  4.7054e-01,  ..., -2.0903e-01,\n",
      "           2.2502e-01, -1.0633e-01],\n",
      "         [ 1.1295e-01,  2.1058e-01,  4.2397e-01,  ..., -1.9847e-01,\n",
      "           1.8985e-01, -1.0692e-01],\n",
      "         [ 6.9234e-02,  4.9711e-02,  3.0438e-01,  ..., -4.5440e-02,\n",
      "           8.4806e-02, -3.7374e-02]],\n",
      "\n",
      "        [[ 3.0006e-03,  6.1159e-02, -5.5661e-02,  ...,  6.4126e-02,\n",
      "           3.5872e-01,  3.7234e-01],\n",
      "         [ 3.2289e-01,  2.1368e-01, -5.2128e-02,  ...,  1.0392e-01,\n",
      "           5.2201e-01,  3.3034e-01],\n",
      "         [ 5.4047e-01,  4.0725e-01, -3.4507e-02,  ..., -1.9680e-01,\n",
      "           3.2186e-01,  3.1048e-01],\n",
      "         ...,\n",
      "         [ 7.9024e-02,  8.3728e-02,  3.6283e-02,  ..., -1.7118e-01,\n",
      "           1.6360e-01, -5.9939e-02],\n",
      "         [ 4.1282e-02,  1.5444e-01,  1.0821e-01,  ..., -1.3570e-01,\n",
      "          -1.5877e-01,  1.5358e-01],\n",
      "         [ 1.3108e-01,  2.3836e-02,  1.0366e-01,  ..., -5.8599e-02,\n",
      "          -1.1165e-01,  2.4922e-01]],\n",
      "\n",
      "        ...,\n",
      "\n",
      "        [[ 9.6447e-02, -1.6335e-02, -1.2508e-01,  ..., -1.9001e-01,\n",
      "           4.9735e-01,  1.9951e-01],\n",
      "         [-2.3012e-02,  1.3505e-01, -3.5457e-01,  ..., -2.1728e-01,\n",
      "           6.4904e-01, -2.0183e-01],\n",
      "         [ 7.5706e-02,  2.4689e-02, -5.0926e-01,  ...,  1.0649e-01,\n",
      "           1.6786e-01, -3.2114e-01],\n",
      "         ...,\n",
      "         [-2.7760e-02, -5.4396e-02, -1.4828e-01,  ..., -7.4193e-02,\n",
      "           5.0821e-02, -1.4425e-01],\n",
      "         [-6.1572e-02,  1.3228e-01, -9.7790e-02,  ..., -1.1216e-01,\n",
      "           1.9416e-02,  3.8540e-02],\n",
      "         [-1.2087e-01,  1.3128e-01, -7.0356e-02,  ..., -1.5326e-01,\n",
      "          -7.9934e-02,  1.6056e-01]],\n",
      "\n",
      "        [[ 6.6459e-02, -1.6513e-01, -1.3763e-01,  ..., -5.6261e-03,\n",
      "           5.0401e-01,  1.7437e-01],\n",
      "         [-1.0223e-01, -2.1753e-01,  2.0998e-01,  ...,  3.5646e-01,\n",
      "           8.1018e-01,  1.1985e-01],\n",
      "         [-8.3991e-03,  1.3519e-01,  3.1632e-01,  ..., -3.8111e-01,\n",
      "           5.3528e-01,  1.5045e-01],\n",
      "         ...,\n",
      "         [ 2.5157e-01,  5.4103e-02,  3.6517e-03,  ...,  2.3471e-01,\n",
      "          -1.1180e-01,  2.0434e-01],\n",
      "         [ 3.5643e-01,  2.4801e-03,  1.6918e-01,  ...,  1.6947e-01,\n",
      "          -2.0026e-01,  4.3681e-02],\n",
      "         [ 3.0195e-01, -6.4295e-03,  1.1820e-01,  ...,  9.3560e-02,\n",
      "          -9.4017e-02, -1.5973e-03]],\n",
      "\n",
      "        [[ 3.9569e-03, -5.3853e-02,  3.7626e-02,  ..., -1.9305e-02,\n",
      "           4.3510e-01,  4.2427e-01],\n",
      "         [ 2.0740e-01,  5.8914e-02,  3.7633e-01,  ..., -1.7259e-01,\n",
      "           4.4081e-01,  5.5471e-01],\n",
      "         [-5.0378e-02,  1.6482e-01,  1.7546e-01,  ...,  8.3492e-03,\n",
      "           3.4885e-01, -1.5931e-01],\n",
      "         ...,\n",
      "         [ 2.3833e-01, -1.5206e-01,  4.2465e-01,  ...,  2.9413e-01,\n",
      "           4.5188e-02,  3.8657e-01],\n",
      "         [ 8.9160e-02, -9.6355e-02,  3.3450e-01,  ...,  1.0238e-01,\n",
      "           7.5814e-02,  4.3468e-01],\n",
      "         [ 2.4442e-02,  5.3923e-03,  4.0387e-01,  ...,  1.5004e-02,\n",
      "           1.4898e-01,  4.0431e-01]]]), hidden_states=None, attentions=None)\n"
     ]
    }
   ],
   "source": [
    "# run the model and show last hidden states\n",
    "\n",
    "input_ids = torch.tensor(padded)\n",
    "attention_mask = torch.tensor(attention_mask)\n",
    "\n",
    "with torch.no_grad():\n",
    "    last_hidden_states = model(input_ids, attention_mask=attention_mask)\n",
    "\n",
    "print(last_hidden_states)"
   ]
  },
  {
   "cell_type": "code",
   "execution_count": 10,
   "id": "d987c58e-3163-4488-98fb-1da3fd8aa55d",
   "metadata": {},
   "outputs": [
    {
     "data": {
      "text/plain": [
       "(512, 768)"
      ]
     },
     "execution_count": 10,
     "metadata": {},
     "output_type": "execute_result"
    }
   ],
   "source": [
    "# save the features variable for logistic regression model\n",
    "\n",
    "features = last_hidden_states[0][:,0,:].numpy()\n",
    "features.shape"
   ]
  },
  {
   "cell_type": "code",
   "execution_count": 11,
   "id": "22bbfed1-60e7-4707-88fb-f0eff5bceb43",
   "metadata": {},
   "outputs": [],
   "source": [
    "# split our datset into a training set (80%) and testing set (20%)\n",
    "\n",
    "labels = dataset[1]\n",
    "train_features, test_features, train_labels, test_labels = train_test_split(features, labels)"
   ]
  },
  {
   "cell_type": "code",
   "execution_count": 12,
   "id": "b45a63b8-54fc-41c0-b58b-71b40b137f18",
   "metadata": {},
   "outputs": [
    {
     "name": "stdout",
     "output_type": "stream",
     "text": [
      "1\n",
      "1    288\n",
      "0     96\n",
      "Name: count, dtype: int64\n"
     ]
    }
   ],
   "source": [
    "# Check class distribution\n",
    "print(train_labels.value_counts())"
   ]
  },
  {
   "cell_type": "code",
   "execution_count": 13,
   "id": "d2bc6b03-0c80-4b7d-890e-2281a69d2b1a",
   "metadata": {},
   "outputs": [
    {
     "name": "stdout",
     "output_type": "stream",
     "text": [
      "best parameters:  {'C': 5.263252631578947}\n",
      "best scrores:  0.9322916666666666\n"
     ]
    }
   ],
   "source": [
    "# Grid Search for Parameters\n",
    "parameters = {'C': np.linspace(0.0001, 100, 20)}\n",
    "# Set cv to a number less than the smallest class count or use a different cross-validation strategy\n",
    "grid_search = GridSearchCV(LogisticRegression(), parameters, cv=3)  # Adjust cv as needed\n",
    "grid_search.fit(train_features, train_labels)\n",
    "\n",
    "print('best parameters: ', grid_search.best_params_)\n",
    "print('best scrores: ', grid_search.best_score_)"
   ]
  },
  {
   "cell_type": "code",
   "execution_count": 14,
   "id": "18d40882-3d83-4bc0-b387-1fdd17e93d86",
   "metadata": {},
   "outputs": [
    {
     "data": {
      "text/html": [
       "<style>#sk-container-id-1 {color: black;background-color: white;}#sk-container-id-1 pre{padding: 0;}#sk-container-id-1 div.sk-toggleable {background-color: white;}#sk-container-id-1 label.sk-toggleable__label {cursor: pointer;display: block;width: 100%;margin-bottom: 0;padding: 0.3em;box-sizing: border-box;text-align: center;}#sk-container-id-1 label.sk-toggleable__label-arrow:before {content: \"▸\";float: left;margin-right: 0.25em;color: #696969;}#sk-container-id-1 label.sk-toggleable__label-arrow:hover:before {color: black;}#sk-container-id-1 div.sk-estimator:hover label.sk-toggleable__label-arrow:before {color: black;}#sk-container-id-1 div.sk-toggleable__content {max-height: 0;max-width: 0;overflow: hidden;text-align: left;background-color: #f0f8ff;}#sk-container-id-1 div.sk-toggleable__content pre {margin: 0.2em;color: black;border-radius: 0.25em;background-color: #f0f8ff;}#sk-container-id-1 input.sk-toggleable__control:checked~div.sk-toggleable__content {max-height: 200px;max-width: 100%;overflow: auto;}#sk-container-id-1 input.sk-toggleable__control:checked~label.sk-toggleable__label-arrow:before {content: \"▾\";}#sk-container-id-1 div.sk-estimator input.sk-toggleable__control:checked~label.sk-toggleable__label {background-color: #d4ebff;}#sk-container-id-1 div.sk-label input.sk-toggleable__control:checked~label.sk-toggleable__label {background-color: #d4ebff;}#sk-container-id-1 input.sk-hidden--visually {border: 0;clip: rect(1px 1px 1px 1px);clip: rect(1px, 1px, 1px, 1px);height: 1px;margin: -1px;overflow: hidden;padding: 0;position: absolute;width: 1px;}#sk-container-id-1 div.sk-estimator {font-family: monospace;background-color: #f0f8ff;border: 1px dotted black;border-radius: 0.25em;box-sizing: border-box;margin-bottom: 0.5em;}#sk-container-id-1 div.sk-estimator:hover {background-color: #d4ebff;}#sk-container-id-1 div.sk-parallel-item::after {content: \"\";width: 100%;border-bottom: 1px solid gray;flex-grow: 1;}#sk-container-id-1 div.sk-label:hover label.sk-toggleable__label {background-color: #d4ebff;}#sk-container-id-1 div.sk-serial::before {content: \"\";position: absolute;border-left: 1px solid gray;box-sizing: border-box;top: 0;bottom: 0;left: 50%;z-index: 0;}#sk-container-id-1 div.sk-serial {display: flex;flex-direction: column;align-items: center;background-color: white;padding-right: 0.2em;padding-left: 0.2em;position: relative;}#sk-container-id-1 div.sk-item {position: relative;z-index: 1;}#sk-container-id-1 div.sk-parallel {display: flex;align-items: stretch;justify-content: center;background-color: white;position: relative;}#sk-container-id-1 div.sk-item::before, #sk-container-id-1 div.sk-parallel-item::before {content: \"\";position: absolute;border-left: 1px solid gray;box-sizing: border-box;top: 0;bottom: 0;left: 50%;z-index: -1;}#sk-container-id-1 div.sk-parallel-item {display: flex;flex-direction: column;z-index: 1;position: relative;background-color: white;}#sk-container-id-1 div.sk-parallel-item:first-child::after {align-self: flex-end;width: 50%;}#sk-container-id-1 div.sk-parallel-item:last-child::after {align-self: flex-start;width: 50%;}#sk-container-id-1 div.sk-parallel-item:only-child::after {width: 0;}#sk-container-id-1 div.sk-dashed-wrapped {border: 1px dashed gray;margin: 0 0.4em 0.5em 0.4em;box-sizing: border-box;padding-bottom: 0.4em;background-color: white;}#sk-container-id-1 div.sk-label label {font-family: monospace;font-weight: bold;display: inline-block;line-height: 1.2em;}#sk-container-id-1 div.sk-label-container {text-align: center;}#sk-container-id-1 div.sk-container {/* jupyter's `normalize.less` sets `[hidden] { display: none; }` but bootstrap.min.css set `[hidden] { display: none !important; }` so we also need the `!important` here to be able to override the default hidden behavior on the sphinx rendered scikit-learn.org. See: https://github.com/scikit-learn/scikit-learn/issues/21755 */display: inline-block !important;position: relative;}#sk-container-id-1 div.sk-text-repr-fallback {display: none;}</style><div id=\"sk-container-id-1\" class=\"sk-top-container\"><div class=\"sk-text-repr-fallback\"><pre>LogisticRegression(C=5.263252631578947)</pre><b>In a Jupyter environment, please rerun this cell to show the HTML representation or trust the notebook. <br />On GitHub, the HTML representation is unable to render, please try loading this page with nbviewer.org.</b></div><div class=\"sk-container\" hidden><div class=\"sk-item\"><div class=\"sk-estimator sk-toggleable\"><input class=\"sk-toggleable__control sk-hidden--visually\" id=\"sk-estimator-id-1\" type=\"checkbox\" checked><label for=\"sk-estimator-id-1\" class=\"sk-toggleable__label sk-toggleable__label-arrow\">LogisticRegression</label><div class=\"sk-toggleable__content\"><pre>LogisticRegression(C=5.263252631578947)</pre></div></div></div></div></div>"
      ],
      "text/plain": [
       "LogisticRegression(C=5.263252631578947)"
      ]
     },
     "execution_count": 14,
     "metadata": {},
     "output_type": "execute_result"
    }
   ],
   "source": [
    "lr_clf = LogisticRegression(C=5.263252631578947)\n",
    "lr_clf.fit(train_features, train_labels)"
   ]
  },
  {
   "cell_type": "code",
   "execution_count": 15,
   "id": "7eba56d4-eae5-492f-b2ca-5f46db62fcf8",
   "metadata": {},
   "outputs": [
    {
     "data": {
      "text/plain": [
       "0.9375"
      ]
     },
     "execution_count": 15,
     "metadata": {},
     "output_type": "execute_result"
    }
   ],
   "source": [
    "lr_clf.score(test_features, test_labels)"
   ]
  },
  {
   "cell_type": "code",
   "execution_count": 16,
   "id": "489378bb-9e50-47ba-a5f7-cffceb1dfe01",
   "metadata": {},
   "outputs": [
    {
     "data": {
      "image/png": "[encoded data removed]",
      "text/plain": [
       "<Figure size 800x600 with 2 Axes>"
      ]
     },
     "metadata": {},
     "output_type": "display_data"
    },
    {
     "name": "stdout",
     "output_type": "stream",
     "text": [
      "              precision    recall  f1-score   support\n",
      "\n",
      "           0       0.91      0.91      0.91        45\n",
      "           1       0.95      0.95      0.95        83\n",
      "\n",
      "    accuracy                           0.94       128\n",
      "   macro avg       0.93      0.93      0.93       128\n",
      "weighted avg       0.94      0.94      0.94       128\n",
      "\n"
     ]
    }
   ],
   "source": [
    "# draw a confusion maxtrix report based on above result\n",
    "\n",
    "# Predict labels for test data\n",
    "y_pred = lr_clf.predict(test_features)\n",
    "\n",
    "\n",
    "# Generate confusion matrix\n",
    "cm = confusion_matrix(test_labels, y_pred)\n",
    "\n",
    "# Plot confusion matrix using Seaborn\n",
    "plt.figure(figsize=(8, 6))\n",
    "sns.heatmap(cm, annot=True, fmt='d', cmap='Blues')\n",
    "plt.xlabel('Predicted Labels')\n",
    "plt.ylabel('True Labels')\n",
    "plt.title('Confusion Matrix')\n",
    "plt.show()\n",
    "\n",
    "# Print classification report\n",
    "print(classification_report(test_labels, y_pred))"
   ]
  },
  {
   "cell_type": "code",
   "execution_count": 17,
   "id": "ddb51f9d-8fca-48e7-9d57-54e4eefa9303",
   "metadata": {},
   "outputs": [
    {
     "name": "stdout",
     "output_type": "stream",
     "text": [
      "Predicted Sentiment: 1\n"
     ]
    }
   ],
   "source": [
    "# test the prediction with new test review\n",
    "\n",
    "# Add a text to test the prediction\n",
    "text = \"The school is great\"  # Replace with your text\n",
    "\n",
    "# Tokenize and preprocess the text\n",
    "tokenized_text = tokenizer.encode(text, add_special_tokens=True)\n",
    "padded_text = np.array([tokenized_text + [0]*(max_len-len(tokenized_text))])\n",
    "attention_mask_text = np.where(padded_text != 0, 1, 0)\n",
    "\n",
    "input_ids_text = torch.tensor(padded_text)\n",
    "attention_mask_text = torch.tensor(attention_mask_text)\n",
    "\n",
    "# Generate embeddings for the text\n",
    "with torch.no_grad():\n",
    "    last_hidden_states_text = model(input_ids_text, attention_mask=attention_mask_text)\n",
    "\n",
    "features_text = last_hidden_states_text[0][:,0,:].numpy()\n",
    "\n",
    "# Predict sentiment\n",
    "prediction = lr_clf.predict(features_text)\n",
    "\n",
    "print(\"Predicted Sentiment:\", prediction[0])\n"
   ]
  },
  {
   "cell_type": "code",
   "execution_count": 18,
   "id": "24cba2a9-57c3-43bc-a98f-329cd26533f4",
   "metadata": {},
   "outputs": [
    {
     "name": "stdout",
     "output_type": "stream",
     "text": [
      "Predicted Sentiment: 0\n"
     ]
    }
   ],
   "source": [
    "# test the prediction with new test review\n",
    "\n",
    "# Add a text to test the prediction\n",
    "text = \"The school is bad\"  # Replace with your text\n",
    "\n",
    "# Tokenize and preprocess the text\n",
    "tokenized_text = tokenizer.encode(text, add_special_tokens=True)\n",
    "padded_text = np.array([tokenized_text + [0]*(max_len-len(tokenized_text))])\n",
    "attention_mask_text = np.where(padded_text != 0, 1, 0)\n",
    "\n",
    "input_ids_text = torch.tensor(padded_text)\n",
    "attention_mask_text = torch.tensor(attention_mask_text)\n",
    "\n",
    "# Generate embeddings for the text\n",
    "with torch.no_grad():\n",
    "    last_hidden_states_text = model(input_ids_text, attention_mask=attention_mask_text)\n",
    "\n",
    "features_text = last_hidden_states_text[0][:,0,:].numpy()\n",
    "\n",
    "# Predict sentiment\n",
    "prediction = lr_clf.predict(features_text)\n",
    "\n",
    "print(\"Predicted Sentiment:\", prediction[0])"
   ]
  },
  {
   "cell_type": "code",
   "execution_count": 19,
   "id": "83b6c149-aa50-4671-a797-2a74915fceb2",
   "metadata": {},
   "outputs": [
    {
     "name": "stdout",
     "output_type": "stream",
     "text": [
      "Topic 0:\n",
      "collage students course amazing study work education student highly enjoy\n",
      "Topic 1:\n",
      "collage course best students good professor canteen professors business learning\n",
      "Topic 2:\n",
      "course students skills opportunities practical learning apply provided excellence develop\n",
      "Topic 3:\n",
      "school good best staff teachers student faculty excellent management friendly\n",
      "Topic 4:\n",
      "great staff course college professors teaching helpful good best education\n"
     ]
    }
   ],
   "source": [
    "# prompt: to create topic modeling for positive review\n",
    "\n",
    "from sklearn.decomposition import LatentDirichletAllocation\n",
    "from sklearn.feature_extraction.text import CountVectorizer\n",
    "\n",
    "# Filter for positive reviews\n",
    "positive_reviews = dataset[dataset[1] == 1][0].tolist()\n",
    "\n",
    "# Vectorize the text data\n",
    "vectorizer = CountVectorizer(max_df=0.95, min_df=2, stop_words='english')\n",
    "X = vectorizer.fit_transform(positive_reviews)\n",
    "\n",
    "# Apply LDA for topic modeling\n",
    "num_topics = 5  # Adjust the number of topics as needed\n",
    "lda = LatentDirichletAllocation(n_components=num_topics, random_state=42)\n",
    "lda.fit(X)\n",
    "\n",
    "# Display topics and their top words\n",
    "def display_topics(model, feature_names, no_top_words):\n",
    "    for topic_idx, topic in enumerate(model.components_):\n",
    "        print(\"Topic %d:\" % (topic_idx))\n",
    "        print(\" \".join([feature_names[i]\n",
    "                        for i in topic.argsort()[:-no_top_words - 1:-1]]))\n",
    "\n",
    "no_top_words = 10\n",
    "display_topics(lda, vectorizer.get_feature_names_out(), no_top_words)"
   ]
  },
  {
   "cell_type": "code",
   "execution_count": 20,
   "id": "09b59e4d-ac48-4b35-9afc-0cb3db2834ed",
   "metadata": {},
   "outputs": [
    {
     "name": "stdout",
     "output_type": "stream",
     "text": [
      "Topic 0:\n",
      "money fee students time form education online increase year admission\n",
      "Topic 1:\n",
      "fees food collage options expensive campus difficulty did way orientation\n",
      "Topic 2:\n",
      "school expensive course costly fee money bad education long courses\n",
      "Topic 3:\n",
      "collage fees expensive academic management money cost education professors pathetic\n",
      "Topic 4:\n",
      "fee expensive financial course structure register aid extorbitant worth exorbitant\n"
     ]
    }
   ],
   "source": [
    "# prompt: to create topic modeling for negative review\n",
    "\n",
    "# Filter for negative reviews\n",
    "negative_reviews = dataset[dataset[1] == 0][0].tolist()\n",
    "\n",
    "# Vectorize the text data\n",
    "vectorizer_neg = CountVectorizer(max_df=0.95, min_df=2, stop_words='english')\n",
    "X_neg = vectorizer_neg.fit_transform(negative_reviews)\n",
    "\n",
    "# Apply LDA for topic modeling (adjust num_topics as needed)\n",
    "lda_neg = LatentDirichletAllocation(n_components=5, random_state=42)\n",
    "lda_neg.fit(X_neg)\n",
    "\n",
    "# Display topics and their top words for negative reviews\n",
    "display_topics(lda_neg, vectorizer_neg.get_feature_names_out(), no_top_words)\n"
   ]
  },
  {
   "cell_type": "code",
   "execution_count": 21,
   "id": "184bd71c-6ec3-4cc4-b040-2db51b8516d3",
   "metadata": {},
   "outputs": [
    {
     "name": "stdout",
     "output_type": "stream",
     "text": [
      "['expensive', 'fee', 'fees', 'money', 'financial', 'costly', 'food', 'cost', 'go', 'bad', 'register', 'structure', 'online', 'professors', 'increase', 'options', 'form', 'time', 'aid', 'admission']\n"
     ]
    }
   ],
   "source": [
    "# define top 20 words appearance most in negative review \n",
    "# removing stop words, punctuation, and common words\n",
    "\n",
    "\n",
    "# Filter for negative reviews\n",
    "negative_reviews = dataset[dataset[1] == 0][0].tolist()\n",
    "\n",
    "# Combine all negative reviews into a single string\n",
    "all_negative_text = ' '.join(negative_reviews)\n",
    "\n",
    "# Tokenize and remove punctuation\n",
    "tokens = word_tokenize(all_negative_text.lower())\n",
    "tokens = [word for word in tokens if word.isalnum()]\n",
    "\n",
    "# Remove stop words and common words\n",
    "stop_words = set(stopwords.words('english'))\n",
    "common_words = {'school', 'collage', 'course', 'education','students','campus','said'}\n",
    "filtered_tokens = [word for word in tokens if word not in stop_words and word not in common_words]\n",
    "\n",
    "# Count word frequencies\n",
    "word_counts = Counter(filtered_tokens)\n",
    "\n",
    "# Get the top 20 most frequent words (without counts)\n",
    "top_20_words = [word for word, count in word_counts.most_common(20)]\n",
    "\n",
    "print(top_20_words)"
   ]
  },
  {
   "cell_type": "code",
   "execution_count": 22,
   "id": "a7a132f3-3601-4a10-8066-2584e0ec8c36",
   "metadata": {},
   "outputs": [
    {
     "data": {
      "image/png": "[encoded data removed]",
      "text/plain": [
       "<Figure size 1200x800 with 2 Axes>"
      ]
     },
     "metadata": {},
     "output_type": "display_data"
    }
   ],
   "source": [
    "# draw a heatmap for top 20 words in negative review\n",
    "\n",
    "# Create a DataFrame for the heatmap\n",
    "df_top_words = pd.DataFrame(word_counts.most_common(20), columns=['Word', 'Count'])\n",
    "\n",
    "# Pivot the DataFrame for the heatmap\n",
    "df_heatmap = df_top_words.pivot(index='Word', columns='Count', values='Count')\n",
    "\n",
    "# Plot the heatmap\n",
    "plt.figure(figsize=(12, 8))\n",
    "sns.heatmap(df_heatmap, cmap=\"YlGnBu\", annot=True, fmt=\".0f\") # Use fmt=\".0f\" to format floats as integers without decimals\n",
    "plt.title('Top 20 Words in Negative Reviews')\n",
    "plt.xlabel('Count')\n",
    "plt.ylabel('Word')\n",
    "plt.show()"
   ]
  },
  {
   "cell_type": "code",
   "execution_count": 23,
   "id": "db2e74c2-09f2-4168-a665-0bca42994f76",
   "metadata": {},
   "outputs": [
    {
     "name": "stdout",
     "output_type": "stream",
     "text": [
      "['good', 'best', 'great', 'professors', 'learning', 'staff', 'excellent', 'faculty', 'teachers', 'skills', 'academic', 'amazing', 'environment', 'highly', 'supportive', 'professor', 'experience', 'management', 'provided', 'teaching']\n"
     ]
    }
   ],
   "source": [
    "# define top 20 key wowrds from positive review\n",
    "# removing stop words, punctuation, and common words\n",
    "\n",
    "# Filter for positive reviews\n",
    "positive_reviews = dataset[dataset[1] == 1][0].tolist()\n",
    "\n",
    "# Combine all positive reviews into a single string\n",
    "all_positive_text = ' '.join(positive_reviews)\n",
    "\n",
    "# Tokenize and remove punctuation\n",
    "tokens = word_tokenize(all_positive_text.lower())\n",
    "tokens = [word for word in tokens if word.isalnum()]\n",
    "\n",
    "# Remove stop words and common words\n",
    "stop_words = set(stopwords.words('english'))\n",
    "common_words = {'school', 'collage', 'college','course', 'education','student','campus','said','also','x','one', 'study' , 'students'}  # Add more common words as needed\n",
    "filtered_tokens = [word for word in tokens if word not in stop_words and word not in common_words]\n",
    "\n",
    "# Count word frequencies\n",
    "word_counts = Counter(filtered_tokens)\n",
    "\n",
    "# Get the top 20 most frequent words (without counts)\n",
    "top_20_words = [word for word, count in word_counts.most_common(20)]\n",
    "\n",
    "print(top_20_words)\n"
   ]
  },
  {
   "cell_type": "code",
   "execution_count": 24,
   "id": "ef2c8909-cfec-4439-b78c-bf8d09f05311",
   "metadata": {},
   "outputs": [
    {
     "data": {
      "image/png": "[encoded data removed]",
      "text/plain": [
       "<Figure size 1200x800 with 2 Axes>"
      ]
     },
     "metadata": {},
     "output_type": "display_data"
    }
   ],
   "source": [
    "# draw heatmap for top 20 \n",
    "\n",
    "# Create a DataFrame for the heatmap\n",
    "df_top_words = pd.DataFrame(word_counts.most_common(20), columns=['Word', 'Count'])\n",
    "\n",
    "# Pivot the DataFrame for the heatmap\n",
    "df_heatmap = df_top_words.pivot(index='Word', columns='Count', values='Count')\n",
    "\n",
    "# Plot the heatmap\n",
    "plt.figure(figsize=(12, 8))\n",
    "sns.heatmap(df_heatmap, cmap=\"YlGnBu\", annot=True, fmt=\".0f\") # Use fmt=\".0f\" to format floats as integers without decimals\n",
    "plt.title('Top 20 Words in Positive Reviews')\n",
    "plt.xlabel('Count')\n",
    "plt.ylabel('Word')\n",
    "plt.show()\n"
   ]
  },
  {
   "cell_type": "code",
   "execution_count": null,
   "id": "df11c313-e98d-4bf6-9276-46167a044ed1",
   "metadata": {},
   "outputs": [],
   "source": []
  }
 ],
 "metadata": {
  "kernelspec": {
   "display_name": "Python 3 (ipykernel)",
   "language": "python",
   "name": "python3"
  },
  "language_info": {
   "codemirror_mode": {
    "name": "ipython",
    "version": 3
   },
   "file_extension": ".py",
   "mimetype": "text/x-python",
   "name": "python",
   "nbconvert_exporter": "python",
   "pygments_lexer": "ipython3",
   "version": "3.11.7"
  }
 },
 "nbformat": 4,
 "nbformat_minor": 5
}
